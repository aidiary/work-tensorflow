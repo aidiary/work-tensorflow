{
 "cells": [
  {
   "cell_type": "code",
   "execution_count": 1,
   "metadata": {},
   "outputs": [],
   "source": [
    "!pip install -q h5py pyyaml"
   ]
  },
  {
   "cell_type": "code",
   "execution_count": 2,
   "metadata": {},
   "outputs": [],
   "source": [
    "import os\n",
    "import tensorflow as tf\n",
    "from tensorflow import keras"
   ]
  },
  {
   "cell_type": "code",
   "execution_count": 3,
   "metadata": {},
   "outputs": [
    {
     "name": "stdout",
     "output_type": "stream",
     "text": [
      "Downloading data from https://storage.googleapis.com/tensorflow/tf-keras-datasets/mnist.npz\n",
      "11493376/11490434 [==============================] - 2s 0us/step\n"
     ]
    }
   ],
   "source": [
    "(train_images, train_labels), (test_images, test_labels) = tf.keras.datasets.mnist.load_data()\n",
    "\n",
    "train_labels = train_labels[:1000]\n",
    "test_labels = test_labels[:1000]\n",
    "\n",
    "train_images = train_images[:1000].reshape(-1, 28 * 28) / 255.0\n",
    "test_images = test_images[:1000].reshape(-1, 28 * 28) / 255.0"
   ]
  },
  {
   "cell_type": "code",
   "execution_count": 4,
   "metadata": {},
   "outputs": [],
   "source": [
    "def create_model():\n",
    "    model = tf.keras.models.Sequential([\n",
    "        keras.layers.Dense(512, activation='relu', input_shape=(784, )),\n",
    "        keras.layers.Dropout(0.2),\n",
    "        keras.layers.Dense(10, activation='softmax')\n",
    "    ])\n",
    "    \n",
    "    model.compile(optimizer='adam',\n",
    "                  loss='sparse_categorical_crossentropy',\n",
    "                  metrics=['accuracy'])\n",
    "\n",
    "    return model"
   ]
  },
  {
   "cell_type": "code",
   "execution_count": 5,
   "metadata": {},
   "outputs": [
    {
     "name": "stdout",
     "output_type": "stream",
     "text": [
      "Model: \"sequential\"\n",
      "_________________________________________________________________\n",
      "Layer (type)                 Output Shape              Param #   \n",
      "=================================================================\n",
      "dense (Dense)                (None, 512)               401920    \n",
      "_________________________________________________________________\n",
      "dropout (Dropout)            (None, 512)               0         \n",
      "_________________________________________________________________\n",
      "dense_1 (Dense)              (None, 10)                5130      \n",
      "=================================================================\n",
      "Total params: 407,050\n",
      "Trainable params: 407,050\n",
      "Non-trainable params: 0\n",
      "_________________________________________________________________\n"
     ]
    }
   ],
   "source": [
    "model = create_model()\n",
    "model.summary()"
   ]
  },
  {
   "cell_type": "code",
   "execution_count": 6,
   "metadata": {},
   "outputs": [
    {
     "name": "stdout",
     "output_type": "stream",
     "text": [
      "Train on 1000 samples, validate on 1000 samples\n",
      "Epoch 1/10\n",
      "  32/1000 [..............................] - ETA: 9s - loss: 2.4552 - accuracy: 0.0938\n",
      "Epoch 00001: saving model to training_1/cp.ckpt\n",
      "1000/1000 [==============================] - 0s 442us/sample - loss: 1.1264 - accuracy: 0.6690 - val_loss: 0.6899 - val_accuracy: 0.7980\n",
      "Epoch 2/10\n",
      "  32/1000 [..............................] - ETA: 0s - loss: 0.5138 - accuracy: 0.9062\n",
      "Epoch 00002: saving model to training_1/cp.ckpt\n",
      "1000/1000 [==============================] - 0s 99us/sample - loss: 0.4213 - accuracy: 0.8830 - val_loss: 0.5580 - val_accuracy: 0.8120\n",
      "Epoch 3/10\n",
      "  32/1000 [..............................] - ETA: 0s - loss: 0.3285 - accuracy: 0.9375\n",
      "Epoch 00003: saving model to training_1/cp.ckpt\n",
      "1000/1000 [==============================] - 0s 96us/sample - loss: 0.2885 - accuracy: 0.9250 - val_loss: 0.4822 - val_accuracy: 0.8490\n",
      "Epoch 4/10\n",
      "  32/1000 [..............................] - ETA: 0s - loss: 0.1545 - accuracy: 1.0000\n",
      "Epoch 00004: saving model to training_1/cp.ckpt\n",
      "1000/1000 [==============================] - 0s 92us/sample - loss: 0.2125 - accuracy: 0.9470 - val_loss: 0.4382 - val_accuracy: 0.8620\n",
      "Epoch 5/10\n",
      "  32/1000 [..............................] - ETA: 0s - loss: 0.0866 - accuracy: 1.0000\n",
      "Epoch 00005: saving model to training_1/cp.ckpt\n",
      "1000/1000 [==============================] - 0s 90us/sample - loss: 0.1532 - accuracy: 0.9630 - val_loss: 0.4441 - val_accuracy: 0.8530\n",
      "Epoch 6/10\n",
      "  32/1000 [..............................] - ETA: 0s - loss: 0.3140 - accuracy: 0.9688\n",
      "Epoch 00006: saving model to training_1/cp.ckpt\n",
      "1000/1000 [==============================] - 0s 90us/sample - loss: 0.1245 - accuracy: 0.9790 - val_loss: 0.4161 - val_accuracy: 0.8650\n",
      "Epoch 7/10\n",
      "  32/1000 [..............................] - ETA: 0s - loss: 0.0581 - accuracy: 1.0000\n",
      "Epoch 00007: saving model to training_1/cp.ckpt\n",
      "1000/1000 [==============================] - 0s 93us/sample - loss: 0.0884 - accuracy: 0.9900 - val_loss: 0.4344 - val_accuracy: 0.8600\n",
      "Epoch 8/10\n",
      "  32/1000 [..............................] - ETA: 0s - loss: 0.0556 - accuracy: 1.0000\n",
      "Epoch 00008: saving model to training_1/cp.ckpt\n",
      "1000/1000 [==============================] - 0s 94us/sample - loss: 0.0609 - accuracy: 0.9950 - val_loss: 0.3972 - val_accuracy: 0.8690\n",
      "Epoch 9/10\n",
      "  32/1000 [..............................] - ETA: 0s - loss: 0.0728 - accuracy: 1.0000\n",
      "Epoch 00009: saving model to training_1/cp.ckpt\n",
      "1000/1000 [==============================] - 0s 91us/sample - loss: 0.0493 - accuracy: 0.9980 - val_loss: 0.4062 - val_accuracy: 0.8670\n",
      "Epoch 10/10\n",
      "  32/1000 [..............................] - ETA: 0s - loss: 0.0293 - accuracy: 1.0000\n",
      "Epoch 00010: saving model to training_1/cp.ckpt\n",
      "1000/1000 [==============================] - 0s 104us/sample - loss: 0.0405 - accuracy: 0.9980 - val_loss: 0.4131 - val_accuracy: 0.8700\n"
     ]
    },
    {
     "data": {
      "text/plain": [
       "<tensorflow.python.keras.callbacks.History at 0x7f098c5b9e10>"
      ]
     },
     "execution_count": 6,
     "metadata": {},
     "output_type": "execute_result"
    }
   ],
   "source": [
    "checkpoint_path = 'training_1/cp.ckpt'\n",
    "checkpoint_dir = os.path.dirname(checkpoint_path)\n",
    "\n",
    "cp_callback = tf.keras.callbacks.ModelCheckpoint(checkpoint_path, save_weights_only=True, verbose=1)\n",
    "\n",
    "model = create_model()\n",
    "\n",
    "model.fit(train_images, train_labels, epochs=10,\n",
    "          validation_data=(test_images, test_labels),\n",
    "          callbacks=[cp_callback])"
   ]
  },
  {
   "cell_type": "code",
   "execution_count": 7,
   "metadata": {},
   "outputs": [
    {
     "name": "stdout",
     "output_type": "stream",
     "text": [
      "1000/1000 - 0s - loss: 2.3503 - accuracy: 0.0540\n",
      "0.054\n"
     ]
    }
   ],
   "source": [
    "model = create_model()\n",
    "\n",
    "loss, acc = model.evaluate(test_images, test_labels, verbose=2)\n",
    "print(acc)"
   ]
  },
  {
   "cell_type": "code",
   "execution_count": 8,
   "metadata": {},
   "outputs": [
    {
     "data": {
      "text/plain": [
       "'training_1/cp.ckpt'"
      ]
     },
     "execution_count": 8,
     "metadata": {},
     "output_type": "execute_result"
    }
   ],
   "source": [
    "checkpoint_path"
   ]
  },
  {
   "cell_type": "code",
   "execution_count": 9,
   "metadata": {},
   "outputs": [
    {
     "name": "stdout",
     "output_type": "stream",
     "text": [
      "1000/1000 - 0s - loss: 0.4131 - accuracy: 0.8700\n",
      "0.87\n"
     ]
    }
   ],
   "source": [
    "model.load_weights(checkpoint_path)\n",
    "loss, acc = model.evaluate(test_images, test_labels, verbose=2)\n",
    "print(acc)"
   ]
  },
  {
   "cell_type": "markdown",
   "metadata": {},
   "source": [
    "### 5エポックごとに保存"
   ]
  },
  {
   "cell_type": "code",
   "execution_count": 11,
   "metadata": {},
   "outputs": [
    {
     "name": "stdout",
     "output_type": "stream",
     "text": [
      "WARNING:tensorflow:`period` argument is deprecated. Please use `save_freq` to specify the frequency in number of samples seen.\n",
      "Train on 1000 samples, validate on 1000 samples\n",
      "Epoch 1/50\n",
      "1000/1000 [==============================] - 0s 268us/sample - loss: 1.1768 - accuracy: 0.6680 - val_loss: 0.7519 - val_accuracy: 0.7660\n",
      "Epoch 2/50\n",
      "1000/1000 [==============================] - 0s 84us/sample - loss: 0.4269 - accuracy: 0.8810 - val_loss: 0.5692 - val_accuracy: 0.8290\n",
      "Epoch 3/50\n",
      "1000/1000 [==============================] - 0s 79us/sample - loss: 0.2939 - accuracy: 0.9250 - val_loss: 0.4937 - val_accuracy: 0.8420\n",
      "Epoch 4/50\n",
      "1000/1000 [==============================] - 0s 76us/sample - loss: 0.2177 - accuracy: 0.9520 - val_loss: 0.4555 - val_accuracy: 0.8640\n",
      "Epoch 5/50\n",
      "  32/1000 [..............................] - ETA: 0s - loss: 0.1804 - accuracy: 0.9688\n",
      "Epoch 00005: saving model to training_2/cp-0005.ckpt\n",
      "1000/1000 [==============================] - 0s 93us/sample - loss: 0.1598 - accuracy: 0.9620 - val_loss: 0.4301 - val_accuracy: 0.8600\n",
      "Epoch 6/50\n",
      "1000/1000 [==============================] - 0s 86us/sample - loss: 0.1247 - accuracy: 0.9740 - val_loss: 0.4173 - val_accuracy: 0.8620\n",
      "Epoch 7/50\n",
      "1000/1000 [==============================] - 0s 90us/sample - loss: 0.0894 - accuracy: 0.9910 - val_loss: 0.4006 - val_accuracy: 0.8660\n",
      "Epoch 8/50\n",
      "1000/1000 [==============================] - 0s 131us/sample - loss: 0.0685 - accuracy: 0.9880 - val_loss: 0.4155 - val_accuracy: 0.8610\n",
      "Epoch 9/50\n",
      "1000/1000 [==============================] - 0s 147us/sample - loss: 0.0542 - accuracy: 0.9950 - val_loss: 0.4140 - val_accuracy: 0.8660\n",
      "Epoch 10/50\n",
      " 736/1000 [=====================>........] - ETA: 0s - loss: 0.0429 - accuracy: 0.9959\n",
      "Epoch 00010: saving model to training_2/cp-0010.ckpt\n",
      "1000/1000 [==============================] - 0s 163us/sample - loss: 0.0433 - accuracy: 0.9970 - val_loss: 0.4064 - val_accuracy: 0.8690\n",
      "Epoch 11/50\n",
      "1000/1000 [==============================] - 0s 91us/sample - loss: 0.0306 - accuracy: 1.0000 - val_loss: 0.4227 - val_accuracy: 0.8580\n",
      "Epoch 12/50\n",
      "1000/1000 [==============================] - 0s 107us/sample - loss: 0.0263 - accuracy: 1.0000 - val_loss: 0.4059 - val_accuracy: 0.8750\n",
      "Epoch 13/50\n",
      "1000/1000 [==============================] - 0s 112us/sample - loss: 0.0208 - accuracy: 1.0000 - val_loss: 0.4119 - val_accuracy: 0.8680\n",
      "Epoch 14/50\n",
      "1000/1000 [==============================] - 0s 116us/sample - loss: 0.0186 - accuracy: 1.0000 - val_loss: 0.4102 - val_accuracy: 0.8750\n",
      "Epoch 15/50\n",
      " 928/1000 [==========================>...] - ETA: 0s - loss: 0.0170 - accuracy: 1.0000\n",
      "Epoch 00015: saving model to training_2/cp-0015.ckpt\n",
      "1000/1000 [==============================] - 0s 135us/sample - loss: 0.0167 - accuracy: 1.0000 - val_loss: 0.4107 - val_accuracy: 0.8720\n",
      "Epoch 16/50\n",
      "1000/1000 [==============================] - 0s 86us/sample - loss: 0.0134 - accuracy: 1.0000 - val_loss: 0.4112 - val_accuracy: 0.8710\n",
      "Epoch 17/50\n",
      "1000/1000 [==============================] - 0s 80us/sample - loss: 0.0115 - accuracy: 1.0000 - val_loss: 0.4221 - val_accuracy: 0.8700\n",
      "Epoch 18/50\n",
      "1000/1000 [==============================] - 0s 80us/sample - loss: 0.0109 - accuracy: 1.0000 - val_loss: 0.4251 - val_accuracy: 0.8700\n",
      "Epoch 19/50\n",
      "1000/1000 [==============================] - 0s 80us/sample - loss: 0.0087 - accuracy: 1.0000 - val_loss: 0.4209 - val_accuracy: 0.8720\n",
      "Epoch 20/50\n",
      "  32/1000 [..............................] - ETA: 0s - loss: 0.0103 - accuracy: 1.0000\n",
      "Epoch 00020: saving model to training_2/cp-0020.ckpt\n",
      "1000/1000 [==============================] - 0s 134us/sample - loss: 0.0084 - accuracy: 1.0000 - val_loss: 0.4206 - val_accuracy: 0.8710\n",
      "Epoch 21/50\n",
      "1000/1000 [==============================] - 0s 113us/sample - loss: 0.0075 - accuracy: 1.0000 - val_loss: 0.4300 - val_accuracy: 0.8690\n",
      "Epoch 22/50\n",
      "1000/1000 [==============================] - 0s 108us/sample - loss: 0.0065 - accuracy: 1.0000 - val_loss: 0.4367 - val_accuracy: 0.8700\n",
      "Epoch 23/50\n",
      "1000/1000 [==============================] - 0s 79us/sample - loss: 0.0061 - accuracy: 1.0000 - val_loss: 0.4339 - val_accuracy: 0.8680\n",
      "Epoch 24/50\n",
      "1000/1000 [==============================] - 0s 79us/sample - loss: 0.0055 - accuracy: 1.0000 - val_loss: 0.4519 - val_accuracy: 0.8690\n",
      "Epoch 25/50\n",
      "  32/1000 [..............................] - ETA: 0s - loss: 0.0038 - accuracy: 1.0000\n",
      "Epoch 00025: saving model to training_2/cp-0025.ckpt\n",
      "1000/1000 [==============================] - 0s 94us/sample - loss: 0.0052 - accuracy: 1.0000 - val_loss: 0.4382 - val_accuracy: 0.8710\n",
      "Epoch 26/50\n",
      "1000/1000 [==============================] - 0s 86us/sample - loss: 0.0048 - accuracy: 1.0000 - val_loss: 0.4421 - val_accuracy: 0.8720\n",
      "Epoch 27/50\n",
      "1000/1000 [==============================] - 0s 84us/sample - loss: 0.0049 - accuracy: 1.0000 - val_loss: 0.4419 - val_accuracy: 0.8740\n",
      "Epoch 28/50\n",
      "1000/1000 [==============================] - 0s 81us/sample - loss: 0.0045 - accuracy: 1.0000 - val_loss: 0.4393 - val_accuracy: 0.8750\n",
      "Epoch 29/50\n",
      "1000/1000 [==============================] - 0s 82us/sample - loss: 0.0035 - accuracy: 1.0000 - val_loss: 0.4383 - val_accuracy: 0.8750\n",
      "Epoch 30/50\n",
      "  32/1000 [..............................] - ETA: 0s - loss: 0.0015 - accuracy: 1.0000\n",
      "Epoch 00030: saving model to training_2/cp-0030.ckpt\n",
      "1000/1000 [==============================] - 0s 88us/sample - loss: 0.0041 - accuracy: 1.0000 - val_loss: 0.4541 - val_accuracy: 0.8710\n",
      "Epoch 31/50\n",
      "1000/1000 [==============================] - 0s 83us/sample - loss: 0.0033 - accuracy: 1.0000 - val_loss: 0.4582 - val_accuracy: 0.8730\n",
      "Epoch 32/50\n",
      "1000/1000 [==============================] - 0s 93us/sample - loss: 0.0030 - accuracy: 1.0000 - val_loss: 0.4630 - val_accuracy: 0.8710\n",
      "Epoch 33/50\n",
      "1000/1000 [==============================] - 0s 140us/sample - loss: 0.0029 - accuracy: 1.0000 - val_loss: 0.4519 - val_accuracy: 0.8750\n",
      "Epoch 34/50\n",
      "1000/1000 [==============================] - 0s 166us/sample - loss: 0.0026 - accuracy: 1.0000 - val_loss: 0.4526 - val_accuracy: 0.8770\n",
      "Epoch 35/50\n",
      " 640/1000 [==================>...........] - ETA: 0s - loss: 0.0025 - accuracy: 1.0000\n",
      "Epoch 00035: saving model to training_2/cp-0035.ckpt\n",
      "1000/1000 [==============================] - 0s 183us/sample - loss: 0.0024 - accuracy: 1.0000 - val_loss: 0.4477 - val_accuracy: 0.8750\n",
      "Epoch 36/50\n",
      "1000/1000 [==============================] - 0s 88us/sample - loss: 0.0024 - accuracy: 1.0000 - val_loss: 0.4523 - val_accuracy: 0.8790\n",
      "Epoch 37/50\n",
      "1000/1000 [==============================] - 0s 81us/sample - loss: 0.0024 - accuracy: 1.0000 - val_loss: 0.4628 - val_accuracy: 0.8750\n",
      "Epoch 38/50\n",
      "1000/1000 [==============================] - 0s 78us/sample - loss: 0.0024 - accuracy: 1.0000 - val_loss: 0.4652 - val_accuracy: 0.8730\n",
      "Epoch 39/50\n",
      "1000/1000 [==============================] - 0s 77us/sample - loss: 0.0020 - accuracy: 1.0000 - val_loss: 0.4664 - val_accuracy: 0.8750\n",
      "Epoch 40/50\n",
      "  32/1000 [..............................] - ETA: 0s - loss: 0.0016 - accuracy: 1.0000\n",
      "Epoch 00040: saving model to training_2/cp-0040.ckpt\n",
      "1000/1000 [==============================] - 0s 96us/sample - loss: 0.0018 - accuracy: 1.0000 - val_loss: 0.4688 - val_accuracy: 0.8730\n",
      "Epoch 41/50\n",
      "1000/1000 [==============================] - 0s 105us/sample - loss: 0.0016 - accuracy: 1.0000 - val_loss: 0.4712 - val_accuracy: 0.8720\n",
      "Epoch 42/50\n",
      "1000/1000 [==============================] - 0s 111us/sample - loss: 0.0017 - accuracy: 1.0000 - val_loss: 0.4707 - val_accuracy: 0.8750\n",
      "Epoch 43/50\n",
      "1000/1000 [==============================] - 0s 129us/sample - loss: 0.0017 - accuracy: 1.0000 - val_loss: 0.4753 - val_accuracy: 0.8730\n",
      "Epoch 44/50\n",
      "1000/1000 [==============================] - 0s 130us/sample - loss: 0.0014 - accuracy: 1.0000 - val_loss: 0.4771 - val_accuracy: 0.8760\n",
      "Epoch 45/50\n",
      " 800/1000 [=======================>......] - ETA: 0s - loss: 0.0014 - accuracy: 1.0000\n",
      "Epoch 00045: saving model to training_2/cp-0045.ckpt\n",
      "1000/1000 [==============================] - 0s 150us/sample - loss: 0.0014 - accuracy: 1.0000 - val_loss: 0.4751 - val_accuracy: 0.8770\n",
      "Epoch 46/50\n",
      "1000/1000 [==============================] - 0s 112us/sample - loss: 0.0014 - accuracy: 1.0000 - val_loss: 0.4787 - val_accuracy: 0.8720\n",
      "Epoch 47/50\n",
      "1000/1000 [==============================] - 0s 108us/sample - loss: 0.0013 - accuracy: 1.0000 - val_loss: 0.4809 - val_accuracy: 0.8720\n",
      "Epoch 48/50\n",
      "1000/1000 [==============================] - 0s 116us/sample - loss: 0.0012 - accuracy: 1.0000 - val_loss: 0.4856 - val_accuracy: 0.8760\n",
      "Epoch 49/50\n",
      "1000/1000 [==============================] - 0s 141us/sample - loss: 0.0012 - accuracy: 1.0000 - val_loss: 0.4823 - val_accuracy: 0.8740\n",
      "Epoch 50/50\n",
      " 896/1000 [=========================>....] - ETA: 0s - loss: 0.0011 - accuracy: 1.0000\n",
      "Epoch 00050: saving model to training_2/cp-0050.ckpt\n",
      "1000/1000 [==============================] - 0s 151us/sample - loss: 0.0010 - accuracy: 1.0000 - val_loss: 0.4862 - val_accuracy: 0.8740\n"
     ]
    },
    {
     "data": {
      "text/plain": [
       "<tensorflow.python.keras.callbacks.History at 0x7f09807df7f0>"
      ]
     },
     "execution_count": 11,
     "metadata": {},
     "output_type": "execute_result"
    }
   ],
   "source": [
    "checkpoint_path = 'training_2/cp-{epoch:04d}.ckpt'\n",
    "checkpoint_dir = os.path.dirname(checkpoint_path)\n",
    "\n",
    "cp_callback = tf.keras.callbacks.ModelCheckpoint(\n",
    "    checkpoint_path,\n",
    "    save_weights_only=True,\n",
    "    verbose=1,\n",
    "    period=5)\n",
    "\n",
    "model = create_model()\n",
    "\n",
    "model.fit(train_images, train_labels, epochs=50,\n",
    "          validation_data=(test_images, test_labels),\n",
    "          callbacks=[cp_callback])"
   ]
  },
  {
   "cell_type": "code",
   "execution_count": 12,
   "metadata": {},
   "outputs": [
    {
     "data": {
      "text/plain": [
       "'training_2/cp-0050.ckpt'"
      ]
     },
     "execution_count": 12,
     "metadata": {},
     "output_type": "execute_result"
    }
   ],
   "source": [
    "latest = tf.train.latest_checkpoint(checkpoint_dir)\n",
    "latest"
   ]
  },
  {
   "cell_type": "code",
   "execution_count": 13,
   "metadata": {},
   "outputs": [
    {
     "name": "stdout",
     "output_type": "stream",
     "text": [
      "1000/1000 - 0s - loss: 0.4862 - accuracy: 0.8740\n",
      "0.874\n"
     ]
    }
   ],
   "source": [
    "model = create_model()\n",
    "model.load_weights(latest)\n",
    "loss, acc = model.evaluate(test_images, test_labels, verbose=2)\n",
    "print(acc)"
   ]
  },
  {
   "cell_type": "code",
   "execution_count": null,
   "metadata": {},
   "outputs": [],
   "source": []
  }
 ],
 "metadata": {
  "kernelspec": {
   "display_name": "Python 3",
   "language": "python",
   "name": "python3"
  },
  "language_info": {
   "codemirror_mode": {
    "name": "ipython",
    "version": 3
   },
   "file_extension": ".py",
   "mimetype": "text/x-python",
   "name": "python",
   "nbconvert_exporter": "python",
   "pygments_lexer": "ipython3",
   "version": "3.6.9"
  }
 },
 "nbformat": 4,
 "nbformat_minor": 4
}
